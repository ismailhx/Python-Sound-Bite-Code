{
  "nbformat": 4,
  "nbformat_minor": 0,
  "metadata": {
    "colab": {
      "name": "Proj1",
      "provenance": [],
      "authorship_tag": "ABX9TyNII+qza30WXoYq/k94ISie",
      "include_colab_link": true
    },
    "kernelspec": {
      "name": "python3",
      "display_name": "Python 3"
    },
    "language_info": {
      "name": "python"
    }
  },
  "cells": [
    {
      "cell_type": "markdown",
      "metadata": {
        "id": "view-in-github",
        "colab_type": "text"
      },
      "source": [
        "<a href=\"https://colab.research.google.com/github/ismailhx/hendryxrepo/blob/main/Proj1.ipynb\" target=\"_parent\"><img src=\"https://colab.research.google.com/assets/colab-badge.svg\" alt=\"Open In Colab\"/></a>"
      ]
    },
    {
      "cell_type": "code",
      "execution_count": 1,
      "metadata": {
        "colab": {
          "base_uri": "https://localhost:8080/"
        },
        "id": "-5_falpDsXaa",
        "outputId": "ab6e1b60-291e-499c-ba57-7a7de5475431"
      },
      "outputs": [
        {
          "output_type": "stream",
          "name": "stdout",
          "text": [
            "Collecting gTTS\n",
            "  Downloading gTTS-2.2.4-py3-none-any.whl (26 kB)\n",
            "Requirement already satisfied: requests in /usr/local/lib/python3.7/dist-packages (from gTTS) (2.23.0)\n",
            "Requirement already satisfied: six in /usr/local/lib/python3.7/dist-packages (from gTTS) (1.15.0)\n",
            "Requirement already satisfied: click in /usr/local/lib/python3.7/dist-packages (from gTTS) (7.1.2)\n",
            "Requirement already satisfied: certifi>=2017.4.17 in /usr/local/lib/python3.7/dist-packages (from requests->gTTS) (2021.10.8)\n",
            "Requirement already satisfied: chardet<4,>=3.0.2 in /usr/local/lib/python3.7/dist-packages (from requests->gTTS) (3.0.4)\n",
            "Requirement already satisfied: urllib3!=1.25.0,!=1.25.1,<1.26,>=1.21.1 in /usr/local/lib/python3.7/dist-packages (from requests->gTTS) (1.24.3)\n",
            "Requirement already satisfied: idna<3,>=2.5 in /usr/local/lib/python3.7/dist-packages (from requests->gTTS) (2.10)\n",
            "Installing collected packages: gTTS\n",
            "Successfully installed gTTS-2.2.4\n"
          ]
        }
      ],
      "source": [
        "!pip install gTTS"
      ]
    },
    {
      "cell_type": "code",
      "source": [
        "from gtts import gTTS\n",
        "text_to_say = \"Hello there, I am enjoying learning this\"\n",
        "language = \"en\" \n",
        "\n",
        "obj = gTTS(text = text_to_say, lang = language,slow = False)\n",
        "obj.save(\"/content/gtts.wav\")"
      ],
      "metadata": {
        "id": "9qbtPs3O1eDr"
      },
      "execution_count": 3,
      "outputs": []
    },
    {
      "cell_type": "code",
      "source": [
        "from IPython.display import Audio\n",
        "\n",
        "Audio(\"/content/gtts.wav\")"
      ],
      "metadata": {
        "colab": {
          "base_uri": "https://localhost:8080/",
          "height": 75
        },
        "id": "wkDHFq_r1iyW",
        "outputId": "b950b617-f65a-42ab-89f8-ae2c723abbc1"
      },
      "execution_count": 4,
      "outputs": [
        {
          "output_type": "execute_result",
          "data": {
            "text/plain": [
              "<IPython.lib.display.Audio object>"
            ],
            "text/html": [
              "\n",
              "                <audio controls=\"controls\" >\n",
              "                    <source src=\"data:audio/x-wav;base64,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\" type=\"audio/x-wav\" />\n",
              "                    Your browser does not support the audio element.\n",
              "                </audio>\n",
              "              "
            ]
          },
          "metadata": {},
          "execution_count": 4
        }
      ]
    }
  ]
}